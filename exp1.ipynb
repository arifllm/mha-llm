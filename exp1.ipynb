{
 "cells": [
  {
   "cell_type": "code",
   "execution_count": 66,
   "metadata": {},
   "outputs": [],
   "source": [
    "import os\n",
    "from dotenv import load_dotenv,find_dotenv\n",
    "load_dotenv(find_dotenv())\n",
    "\n",
    "from langchain_community.document_loaders import DirectoryLoader\n",
    "from langchain_community.document_loaders import PyPDFLoader\n",
    "from langchain_community.document_loaders import UnstructuredPDFLoader\n",
    "from langchain_text_splitters import RecursiveCharacterTextSplitter\n",
    "from langchain_openai.chat_models import ChatOpenAI\n",
    "from langchain_openai import OpenAI\n",
    "from langchain_core.prompts.prompt import PromptTemplate\n",
    "from langchain.memory.buffer_window import ConversationBufferWindowMemory\n",
    "from langchain.chains.retrieval_qa.base import RetrievalQA\n",
    "from langchain.chains.conversational_retrieval.base import ConversationalRetrievalChain\n",
    "from langchain_chroma import Chroma\n",
    "from langchain_community.embeddings.sentence_transformer import (\n",
    "    SentenceTransformerEmbeddings,\n",
    ")\n",
    "from langchain_community.callbacks.manager import get_openai_callback"
   ]
  },
  {
   "cell_type": "code",
   "execution_count": 2,
   "metadata": {},
   "outputs": [],
   "source": [
    "os.environ['OPENAI_API_KEY']=os.environ.get('OPENAI_API_KEY')"
   ]
  },
  {
   "cell_type": "code",
   "execution_count": 67,
   "metadata": {},
   "outputs": [],
   "source": [
    "model = ChatOpenAI()"
   ]
  },
  {
   "cell_type": "code",
   "execution_count": 11,
   "metadata": {},
   "outputs": [],
   "source": [
    "# loading csv file\n",
    "loader = DirectoryLoader('dataset/', glob=\"**/*.csv\")\n",
    "documents = loader.load()"
   ]
  },
  {
   "cell_type": "code",
   "execution_count": 50,
   "metadata": {},
   "outputs": [],
   "source": [
    "# Load CSV files\n",
    "csv_loader = DirectoryLoader('dataset', glob=\"**/*.csv\")\n",
    "pdf_loader = PyPDFLoader('dataset/improving-mental-health.pdf') \n",
    "\n",
    "all_documents = []\n",
    "all_documents.extend(csv_loader.load())\n",
    "all_documents.extend(pdf_loader.load())"
   ]
  },
  {
   "cell_type": "code",
   "execution_count": 51,
   "metadata": {},
   "outputs": [],
   "source": [
    "# splitting the document\n",
    "text_splitter = RecursiveCharacterTextSplitter(chunk_size=1000, \n",
    "                                      chunk_overlap=300)\n",
    "texts = text_splitter.split_documents(all_documents)"
   ]
  },
  {
   "cell_type": "code",
   "execution_count": 52,
   "metadata": {},
   "outputs": [
    {
     "name": "stderr",
     "output_type": "stream",
     "text": [
      "/home/employee/Desktop/Hachathon/mha-llm/hackvenv/lib/python3.10/site-packages/huggingface_hub/file_download.py:1132: FutureWarning: `resume_download` is deprecated and will be removed in version 1.0.0. Downloads always resume when possible. If you want to force a new download, use `force_download=True`.\n",
      "  warnings.warn(\n"
     ]
    }
   ],
   "source": [
    "# create the open-source embedding function\n",
    "embedding_function = SentenceTransformerEmbeddings(model_name=\"all-MiniLM-L6-v2\")\n",
    "\n",
    "# load it into Chroma\n",
    "db = Chroma.from_documents(texts, embedding_function)"
   ]
  },
  {
   "cell_type": "code",
   "execution_count": 46,
   "metadata": {},
   "outputs": [],
   "source": [
    "# query it\n",
    "query = \"How do I handle work pressure?\"\n",
    "docs = db.similarity_search(query)"
   ]
  },
  {
   "cell_type": "code",
   "execution_count": 64,
   "metadata": {},
   "outputs": [
    {
     "data": {
      "text/plain": [
       "'Hello! How can I assist you today?'"
      ]
     },
     "execution_count": 64,
     "metadata": {},
     "output_type": "execute_result"
    }
   ],
   "source": [
    "llm = ChatOpenAI(model_name='gpt-3.5-turbo', temperature=0)\n",
    "llm.predict(\"Hello world!\")"
   ]
  },
  {
   "cell_type": "code",
   "execution_count": 65,
   "metadata": {},
   "outputs": [
    {
     "data": {
      "text/plain": [
       "\" Thanks for asking! Poor sleep can affect your mood, outlook, and patience. Stress and anxiety can also have a negative impact on sleep. It's important to be proactive and practice healthy sleep habits. You may also want to check in with your doctor or healthcare team to see if there are any additional measures or precautions you should take, especially if you have a chronic illness. Remember to plan ahead and make sure you have any necessary medications, supplies, or supplements on hand. Don't hesitate to seek out therapy or support to help you manage any underlying stress or anxiety that may be causing your sleep issues.\""
      ]
     },
     "execution_count": 65,
     "metadata": {},
     "output_type": "execute_result"
    }
   ],
   "source": [
    "# Build prompt\n",
    "template = \"\"\"Use the following pieces of context to answer the question at the end. If you don't know the answer, just say that you don't know, don't try to make up an answer. Use three sentences maximum. Keep the answer as concise as possible. Always say \"thanks for asking!\" at the end of the answer. \n",
    "{context}\n",
    "Question: {question}\n",
    "Helpful Answer:\"\"\"\n",
    "QA_CHAIN_PROMPT = PromptTemplate(input_variables=[\"context\", \"question\"],template=template,)\n",
    "\n",
    "# # Run chain\n",
    "# question = \"I can't sleep\"\n",
    "# qa_chain = RetrievalQA.from_chain_type(llm=OpenAI(max_tokens=512),\n",
    "#                                        retriever=db.as_retriever(search_type='mmr'),\n",
    "#                                        return_source_documents=True,\n",
    "#                                        chain_type_kwargs={\"prompt\": QA_CHAIN_PROMPT})\n",
    "\n",
    "\n",
    "# result = qa_chain({\"query\": question})\n",
    "# result[\"result\"]"
   ]
  },
  {
   "cell_type": "code",
   "execution_count": 78,
   "metadata": {},
   "outputs": [],
   "source": [
    "# from langchain.memory import ConversationBufferMemory\n",
    "# memory = ConversationBufferMemory(\n",
    "#     memory_key=\"chat_history\",\n",
    "#     return_messages=True\n",
    "# )"
   ]
  },
  {
   "cell_type": "code",
   "execution_count": 86,
   "metadata": {},
   "outputs": [],
   "source": [
    "retriever=db.as_retriever()\n",
    "qa = ConversationalRetrievalChain.from_llm(\n",
    "    llm=OpenAI(),\n",
    "    retriever=retriever,\n",
    "    return_source_documents=True,\n",
    "    return_generated_question=True,\n",
    "    \n",
    ")\n",
    "chat_history = []"
   ]
  },
  {
   "cell_type": "code",
   "execution_count": 87,
   "metadata": {},
   "outputs": [
    {
     "name": "stdout",
     "output_type": "stream",
     "text": [
      " Some techniques that have been found effective for managing symptoms of social anxiety include cognitive-behavioral therapy, exposure therapy, relaxation techniques, and mindfulness practices. It may also be helpful to talk to a therapist or counselor about your specific anxieties and develop a personalized plan for managing them.\n"
     ]
    }
   ],
   "source": [
    "question = \"What techniques or methods have you found most effective for managing symptoms of social anxiety?\"\n",
    "result = qa({\"question\": question, \"chat_history\": chat_history})\n",
    "chat_history.extend([(question, result[\"answer\"])])\n",
    "print(result['answer'])"
   ]
  },
  {
   "cell_type": "code",
   "execution_count": 88,
   "metadata": {},
   "outputs": [
    {
     "name": "stdout",
     "output_type": "stream",
     "text": [
      "[('What techniques or methods have you found most effective for managing symptoms of social anxiety?', ' Some techniques that have been found effective for managing symptoms of social anxiety include cognitive-behavioral therapy, exposure therapy, relaxation techniques, and mindfulness practices. It may also be helpful to talk to a therapist or counselor about your specific anxieties and develop a personalized plan for managing them.')]\n"
     ]
    }
   ],
   "source": [
    "print(chat_history)"
   ]
  },
  {
   "cell_type": "code",
   "execution_count": 89,
   "metadata": {},
   "outputs": [
    {
     "name": "stdout",
     "output_type": "stream",
     "text": [
      " One specific technique for managing symptoms of social anxiety is exposure therapy. This involves gradually exposing oneself to feared social situations in a safe and controlled manner, with the support and guidance of a therapist. This can help to desensitize the individual to their fears and build confidence and coping skills. It is important to note that this technique should be done under the guidance of a trained therapist, as it can be difficult and potentially harmful to attempt on one's own.\n"
     ]
    }
   ],
   "source": [
    "question = \"Can you elaborate any one of them ?\"\n",
    "result = qa({\"question\": question, \"chat_history\": chat_history})\n",
    "chat_history.extend([(question, result[\"answer\"])])\n",
    "print(result['answer'])\n"
   ]
  },
  {
   "cell_type": "code",
   "execution_count": 90,
   "metadata": {},
   "outputs": [
    {
     "name": "stdout",
     "output_type": "stream",
     "text": [
      "[('What techniques or methods have you found most effective for managing symptoms of social anxiety?', ' Some techniques that have been found effective for managing symptoms of social anxiety include cognitive-behavioral therapy, exposure therapy, relaxation techniques, and mindfulness practices. It may also be helpful to talk to a therapist or counselor about your specific anxieties and develop a personalized plan for managing them.'), ('Can you elaborate any one of them ?', \" One specific technique for managing symptoms of social anxiety is exposure therapy. This involves gradually exposing oneself to feared social situations in a safe and controlled manner, with the support and guidance of a therapist. This can help to desensitize the individual to their fears and build confidence and coping skills. It is important to note that this technique should be done under the guidance of a trained therapist, as it can be difficult and potentially harmful to attempt on one's own.\")]\n"
     ]
    }
   ],
   "source": [
    "print(chat_history)"
   ]
  },
  {
   "cell_type": "code",
   "execution_count": 91,
   "metadata": {},
   "outputs": [
    {
     "name": "stdout",
     "output_type": "stream",
     "text": [
      " Another technique for managing symptoms of social anxiety is to practice cognitive-behavioral therapy (CBT). In CBT, individuals learn to identify and challenge negative thoughts and beliefs that contribute to their anxiety. This can involve techniques such as thought records, where individuals write down their negative thoughts and then challenge them with more realistic and positive thoughts. CBT also involves gradual exposure to feared situations, allowing individuals to face their fears in a controlled and supportive environment. This can help individuals build confidence and reduce the intensity of their anxiety in social situations.\n"
     ]
    }
   ],
   "source": [
    "question = \"Can you elaborate one more?\"\n",
    "result = qa({\"question\": question, \"chat_history\": chat_history})\n",
    "chat_history.extend([(question, result[\"answer\"])])\n",
    "print(result['answer'])"
   ]
  },
  {
   "cell_type": "code",
   "execution_count": 92,
   "metadata": {},
   "outputs": [
    {
     "name": "stdout",
     "output_type": "stream",
     "text": [
      "[('What techniques or methods have you found most effective for managing symptoms of social anxiety?', ' Some techniques that have been found effective for managing symptoms of social anxiety include cognitive-behavioral therapy, exposure therapy, relaxation techniques, and mindfulness practices. It may also be helpful to talk to a therapist or counselor about your specific anxieties and develop a personalized plan for managing them.'), ('Can you elaborate any one of them ?', \" One specific technique for managing symptoms of social anxiety is exposure therapy. This involves gradually exposing oneself to feared social situations in a safe and controlled manner, with the support and guidance of a therapist. This can help to desensitize the individual to their fears and build confidence and coping skills. It is important to note that this technique should be done under the guidance of a trained therapist, as it can be difficult and potentially harmful to attempt on one's own.\"), ('Can you elaborate one more?', ' Another technique for managing symptoms of social anxiety is to practice cognitive-behavioral therapy (CBT). In CBT, individuals learn to identify and challenge negative thoughts and beliefs that contribute to their anxiety. This can involve techniques such as thought records, where individuals write down their negative thoughts and then challenge them with more realistic and positive thoughts. CBT also involves gradual exposure to feared situations, allowing individuals to face their fears in a controlled and supportive environment. This can help individuals build confidence and reduce the intensity of their anxiety in social situations.')]\n"
     ]
    }
   ],
   "source": [
    "print(chat_history)"
   ]
  },
  {
   "cell_type": "code",
   "execution_count": null,
   "metadata": {},
   "outputs": [],
   "source": []
  }
 ],
 "metadata": {
  "kernelspec": {
   "display_name": "hackvenv",
   "language": "python",
   "name": "python3"
  },
  "language_info": {
   "codemirror_mode": {
    "name": "ipython",
    "version": 3
   },
   "file_extension": ".py",
   "mimetype": "text/x-python",
   "name": "python",
   "nbconvert_exporter": "python",
   "pygments_lexer": "ipython3",
   "version": "3.10.12"
  }
 },
 "nbformat": 4,
 "nbformat_minor": 2
}
